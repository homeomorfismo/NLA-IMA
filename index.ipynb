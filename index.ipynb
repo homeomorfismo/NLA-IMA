{
 "cells": [
  {
   "cell_type": "markdown",
   "metadata": {},
   "source": [
    "# NLA-IMA\n",
    "Solved homework, for the subject Numerical Linear Algebra IMA 23001-01."
   ]
  },
  {
   "cell_type": "markdown",
   "metadata": {},
   "source": [
    "1. [Homework 1](hw1/hw1.ipynb)\n",
    "2. [Homework 2](hw2/hw2.ipynb)\n",
    "3. [Homework 3](hw3/hw3.ipynb)\n",
    "4. [Homework 4](hw4/hw4.ipynb)\n",
    "    + [Addendum](hw4/hw4_add.ipynb)"
   ]
  }
 ],
 "metadata": {
  "kernelspec": {
   "display_name": "Matlab",
   "language": "matlab",
   "name": "matlab"
  },
  "language_info": {
   "codemirror_mode": "octave",
   "file_extension": ".m",
   "help_links": [
    {
     "text": "MetaKernel Magics",
     "url": "https://metakernel.readthedocs.io/en/latest/source/README.html"
    }
   ],
   "mimetype": "text/x-octave",
   "name": "matlab",
   "version": "0.16.11"
  }
 },
 "nbformat": 4,
 "nbformat_minor": 4
}
