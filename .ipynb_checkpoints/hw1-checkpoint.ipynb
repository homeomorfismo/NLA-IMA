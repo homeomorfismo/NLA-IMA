{
 "cells": [
  {
   "cell_type": "markdown",
   "metadata": {},
   "source": [
    "# Homework 1\n",
    "## Ex. 4.1\n",
    "3. For $n=100k$, with $k=1,\\dots,5$, estimate the running time of `MATLAB` for computing the product of the product of two matrices `A = rand(n,n)` and `B = rand(n,n)`. Plot this runing time in terms of $n$. *Obs: *"
   ]
  },
  {
   "cell_type": "code",
   "execution_count": 4,
   "metadata": {},
   "outputs": [
    {
     "name": "stdout",
     "output_type": "stream",
     "text": [
      "\n"
     ]
    },
    {
     "data": {
      "image/png": "[encoded data removed]",
      "text/plain": [
       "<IPython.core.display.Image object>"
      ]
     },
     "metadata": {},
     "output_type": "display_data"
    }
   ],
   "source": [
    "k = 5;\n",
    "M = 100;\n",
    "\n",
    "time = zeros(1,k);\n",
    "\n",
    "for n=1:k\n",
    "    a = rand(M*n,M*n);\n",
    "    b = rand(M*n,M*n);\n",
    "    tic;\n",
    "    a*b;\n",
    "    time(n) = toc;\n",
    "end\n",
    "\n",
    "figure\n",
    "plot(1:k,time,'o')\n",
    "title('Matrix size vs time of computation')\n",
    "xlabel('$k$','interpreter','latex')\n",
    "ylabel('Time')"
   ]
  },
  {
   "cell_type": "markdown",
   "metadata": {},
   "source": [
    "4. Assume that this running time is a polynomial function of $n$, so that for $n$ large enough, $T(n) \\approx Cn^s$. In orther to find a numerical approximarion of the exponent $s$, plot the logarithm of $T$ in terms of the logarithm of $n$. Deduce an approximate value of $s$."
   ]
  },
  {
   "cell_type": "code",
   "execution_count": 5,
   "metadata": {},
   "outputs": [
    {
     "name": "stdout",
     "output_type": "stream",
     "text": [
      "    1.3719\n",
      "\n",
      "\n"
     ]
    },
    {
     "data": {
      "image/png": "[encoded data removed]",
      "text/plain": [
       "<IPython.core.display.Image object>"
      ]
     },
     "metadata": {},
     "output_type": "display_data"
    }
   ],
   "source": [
    "% Fit the best straight line\n",
    "p = polyfit(log(1:1:k),log(time),1);\n",
    "\n",
    "figure\n",
    "loglog(1:1:k,time,'o')\n",
    "hold on\n",
    "loglog(1:1:k,exp(p(2)+p(1).*log(1:1:k)))\n",
    "hold off\n",
    "title('Logarithm of matrix size vs Logarithm of time of computation')\n",
    "xlabel('$\\ln k$','interpreter','latex')\n",
    "ylabel('\\ln Time')\n",
    "legend('Data','Best line')\n",
    "\n",
    "disp(p(1))"
   ]
  },
  {
   "cell_type": "markdown",
   "metadata": {},
   "source": [
    "## Ex. 4.2\n",
    "In order to compute the product $ C = AB $ of two real square matrices $A$ and $B$, we use the usual algorithm $$ c_{i,j}=\\sum_{k=1}^n a_{i,k}b_{k,j}, \\ \\ 1\\leq i,j\\leq n,$$ with the usual notation.\n",
    "1. Prove that if $A$ is lower triangular, then the computational complexity for the product $C=AB$ is equivalent to $n^3/2$ for $n$ large (recall that only multiplications an divisions are counted)."
   ]
  },
  {
   "cell_type": "markdown",
   "metadata": {},
   "source": [
    "> If $A$ is lower triangular, then $a_{i,j} = 0$ whenever $i<j$. Thus $$ c_{i,j}=\\sum_{k=1}^i a_{i,k}b_{k,j}, \\ \\ 1\\leq i,j\\leq n.$$ For each pair $(i,j)$, we requere $i$ multiplications for computing $c_{i,j}$.  Then, the number of operations is given by $$ N_\\mathrm{op} = \\sum_{i=1}^n \\sum_{j=1}^n i = \\dfrac{n^2(n+1)}{2} = \\dfrac{n^3}{2} + O(n^2).$$"
   ]
  },
  {
   "cell_type": "markdown",
   "metadata": {},
   "source": [
    "2. Write, in pseudolanguage, an algorithm that makes it possible to compute the product $C = AB$ of a lower triangular matrix $A$ with any matrix $B$ that has the computational complexity $n^3/2$."
   ]
  },
  {
   "cell_type": "markdown",
   "metadata": {},
   "source": [
    "> ```\n",
    "function C = LowTriRegMat(A,B)\n",
    "C = zeros(size(A,1),size(B,2));\n",
    "for i=1:size(A,1)\n",
    "    for j=1:size(B,2)\n",
    "        for k=1:i\n",
    "            C(i,j) = C(i,j) + A(i,k)*B(k,j);\n",
    "        end\n",
    "    end\n",
    "end\n",
    "return C```"
   ]
  },
  {
   "cell_type": "markdown",
   "metadata": {},
   "source": [
    "3. We assume henceforth that both matrices $A$ and $B$ are lower triangular. Taking into account their special structure, prove that the computational complexity for the product $C = AB$ is equivalent to $n^3/6$."
   ]
  },
  {
   "cell_type": "markdown",
   "metadata": {},
   "source": [
    "> Now if $A$ and $B$ are lower triangular, then $a_{i,k} = 0$ whenever $i<k$ and $b_{k,j} = 0$ whenever $k<j$. Thus $$ c_{i,j}=\\sum_{k=j}^i a_{i,k}b_{k,j}, \\ \\ 1\\leq j\\leq i \\leq n.$$ For each pair $(i,j)$ such that $1\\leq j\\leq i \\leq n$, we requere $i-j$ multiplications for computing $c_{i,j}$, and $0$ if $(i,j)$ is such that $j> i$. This reduces the number of operations.  In fact, the number of operations is given by $$ N_\\mathrm{op} = \\sum_{i=1}^n \\sum_{j=1}^i i -j = \\sum_{i=1}^n i^2 - \\dfrac{i(i+1)}{2} = \\dfrac{1}{2} \\sum_{i=1}^n i^2 - i = \\dfrac{1}{2}\\dfrac{n(n+1)(2n+1)}{6} + O(n^2) =\\dfrac{n^3}{6} + O(n^2).$$\n"
   ]
  },
  {
   "cell_type": "markdown",
   "metadata": {},
   "source": [
    "4. Write a function `LowTriMatMult` that performs the product of two lower triangular matrices, exploiting the sparse structure of these matrices. Compare the results obtained with those of `MATLAB`."
   ]
  },
  {
   "cell_type": "code",
   "execution_count": null,
   "metadata": {},
   "outputs": [],
   "source": [
    "function [C]=LowTriMatMult(A,B)\n",
    "\n",
    "if (size(A)~=size(B))\n",
    "    disp('Unable to compute A*B: matrix size must be equal')\n",
    "else\n",
    "\n",
    "C = zeros(size(A));\n",
    "   \n",
    "for i=1:size(A,1)\n",
    "    for j=1:i\n",
    "        for k=j:i\n",
    "            C(i,j) = C(i,j) + A(i,k)*B(k,j);\n",
    "        end\n",
    "    end\n",
    "end\n",
    "   \n",
    "end"
   ]
  }
 ],
 "metadata": {
  "kernelspec": {
   "display_name": "Matlab",
   "language": "matlab",
   "name": "matlab"
  },
  "language_info": {
   "codemirror_mode": "octave",
   "file_extension": ".m",
   "help_links": [
    {
     "text": "MetaKernel Magics",
     "url": "https://metakernel.readthedocs.io/en/latest/source/README.html"
    }
   ],
   "mimetype": "text/x-octave",
   "name": "matlab",
   "version": "0.16.11"
  }
 },
 "nbformat": 4,
 "nbformat_minor": 4
}
